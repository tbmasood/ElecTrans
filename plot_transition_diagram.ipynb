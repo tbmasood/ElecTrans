{
 "cells": [
  {
   "cell_type": "code",
   "execution_count": 1,
   "metadata": {},
   "outputs": [],
   "source": [
    "from electrans import transition_analysis_utils as tau"
   ]
  },
  {
   "cell_type": "code",
   "execution_count": 2,
   "metadata": {},
   "outputs": [],
   "source": [
    "hole_cubeFile = \"./data/tq-td_State1-GS.cube\"\n",
    "particle_cubeFile = \"./data/tq-td_State1-ES.cube\"\n",
    "\n",
    "# Load the the two cube files corresponding to hole (ground state) and particle (excited state)\n",
    "transition = tau.load_transition(hole_cubeFile, particle_cubeFile)"
   ]
  },
  {
   "cell_type": "code",
   "execution_count": 3,
   "metadata": {},
   "outputs": [],
   "source": [
    "# Compute the weighted Voronoi diagram and accumulate charges for each atom\n",
    "segment_array = tau.compute_atomic_charges([transition])"
   ]
  },
  {
   "cell_type": "code",
   "execution_count": 4,
   "metadata": {},
   "outputs": [],
   "source": [
    "# Provide the grouping of atoms in meaningful subgroups\n",
    "subgroup_names = [\"THIO\", \"QUIN\"]\n",
    "atom_subgroup_map = [-1] * transition.num_atoms()\n",
    "# In this case the first 8 atoms belong to Thiophene while the rest of the atoms belong to Quinoxaline\n",
    "atom_subgroup_map[:8] = [0] * 8\n",
    "atom_subgroup_map[8:] = [1] * (transition.num_atoms() - 8)\n",
    "subgroup_info = tau.SubgroupInfo()\n",
    "subgroup_info.set_subgroups(subgroup_names, atom_subgroup_map)"
   ]
  },
  {
   "cell_type": "code",
   "execution_count": 5,
   "metadata": {},
   "outputs": [],
   "source": [
    "# Compute the charges and the amount of charge transfer between subgroups\n",
    "tau.compute_subgroup_charges(transition, subgroup_info)"
   ]
  },
  {
   "cell_type": "code",
   "execution_count": 8,
   "metadata": {},
   "outputs": [
    {
     "data": {
      "application/vnd.jupyter.widget-view+json": {
       "model_id": "c0950f6b498046d084675430764531c7",
       "version_major": 2,
       "version_minor": 0
      },
      "text/plain": [
       "Canvas(toolbar=Toolbar(toolitems=[('Home', 'Reset original view', 'home', 'home'), ('Back', 'Back to previous …"
      ]
     },
     "metadata": {},
     "output_type": "display_data"
    }
   ],
   "source": [
    "# Generate and plot the Transition Diagram\n",
    "%matplotlib widget\n",
    "tau.create_diagram(subgroup_info, title=\"TQ (State 1)\")"
   ]
  },
  {
   "cell_type": "code",
   "execution_count": null,
   "metadata": {},
   "outputs": [],
   "source": []
  }
 ],
 "metadata": {
  "kernelspec": {
   "display_name": "Python 3",
   "language": "python",
   "name": "python3"
  },
  "language_info": {
   "codemirror_mode": {
    "name": "ipython",
    "version": 3
   },
   "file_extension": ".py",
   "mimetype": "text/x-python",
   "name": "python",
   "nbconvert_exporter": "python",
   "pygments_lexer": "ipython3",
   "version": "3.7.5"
  }
 },
 "nbformat": 4,
 "nbformat_minor": 4
}
